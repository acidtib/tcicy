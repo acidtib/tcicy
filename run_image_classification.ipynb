{
 "cells": [
  {
   "cell_type": "markdown",
   "metadata": {},
   "source": [
    "# Image Classification Training Notebook\n",
    "\n",
    "This notebook implements the image classification training script with the specified parameters."
   ]
  },
  {
   "cell_type": "code",
   "execution_count": null,
   "metadata": {},
   "outputs": [],
   "source": [
    "# Install required packages if needed\n",
    "!pip install transformers datasets evaluate torch torchvision huggingface_hub"
   ]
  },
  {
   "cell_type": "code",
   "execution_count": null,
   "metadata": {},
   "outputs": [],
   "source": [
    "from huggingface_hub import notebook_login\n",
    "\n",
    "notebook_login()"
   ]
  },
  {
   "cell_type": "code",
   "execution_count": null,
   "metadata": {},
   "outputs": [],
   "source": [
    "import os\n",
    "os.environ[\"WANDB_DISABLED\"] = \"true\""
   ]
  },
  {
   "cell_type": "code",
   "execution_count": null,
   "metadata": {},
   "outputs": [],
   "source": [
    "import logging\n",
    "import os\n",
    "from dataclasses import dataclass, field\n",
    "from typing import Optional\n",
    "\n",
    "import evaluate\n",
    "import numpy as np\n",
    "import torch\n",
    "from datasets import load_dataset\n",
    "from PIL import Image\n",
    "from torchvision.transforms import (\n",
    "    CenterCrop,\n",
    "    Compose,\n",
    "    Lambda,\n",
    "    Normalize,\n",
    "    RandomHorizontalFlip,\n",
    "    RandomResizedCrop,\n",
    "    Resize,\n",
    "    ToTensor,\n",
    ")\n",
    "\n",
    "import transformers\n",
    "from transformers import (\n",
    "    MODEL_FOR_IMAGE_CLASSIFICATION_MAPPING,\n",
    "    AutoConfig,\n",
    "    AutoImageProcessor,\n",
    "    AutoModelForImageClassification,\n",
    "    Trainer,\n",
    "    TrainingArguments,\n",
    "    set_seed,\n",
    ")"
   ]
  },
  {
   "cell_type": "code",
   "execution_count": 3,
   "metadata": {},
   "outputs": [],
   "source": [
    "@dataclass\n",
    "class ModelArguments:\n",
    "    model_name_or_path: str = field(\n",
    "        default=\"google/vit-base-patch16-224-in21k\",\n",
    "        metadata={\"help\": \"Path to pretrained model or model identifier from huggingface.co/models\"},\n",
    "    )\n",
    "    cache_dir: Optional[str] = field(\n",
    "        default=None\n",
    "    )\n",
    "    model_revision: str = field(\n",
    "        default=\"main\"\n",
    "    )\n",
    "    image_processor_name: str = field(default=None)\n",
    "    token: str = field(default=None)\n",
    "    trust_remote_code: bool = field(default=False)\n",
    "    ignore_mismatched_sizes: bool = field(default=False)\n",
    "\n",
    "@dataclass\n",
    "class DataTrainingArguments:\n",
    "    dataset_name: str = field(default=\"acidtib/tcg-magic-cards\")\n",
    "    dataset_config_name: Optional[str] = field(default=None)\n",
    "    train_val_split: Optional[float] = field(default=0.15)\n",
    "    max_train_samples: Optional[int] = field(default=None)\n",
    "    max_eval_samples: Optional[int] = field(default=None)\n",
    "    image_column_name: str = field(default=\"image\")\n",
    "    label_column_name: str = field(default=\"label\")"
   ]
  },
  {
   "cell_type": "code",
   "execution_count": null,
   "metadata": {},
   "outputs": [],
   "source": [
    "# Set up training arguments\n",
    "training_args = TrainingArguments(\n",
    "    output_dir=\"./models/tcg_magic/\",\n",
    "    remove_unused_columns=False,\n",
    "    do_train=True,\n",
    "    do_eval=True,\n",
    "    learning_rate=2e-5,\n",
    "    num_train_epochs=1,\n",
    "    per_device_train_batch_size=8,\n",
    "    per_device_eval_batch_size=8,\n",
    "    logging_strategy=\"steps\",\n",
    "    logging_steps=100,\n",
    "    evaluation_strategy=\"epoch\",\n",
    "    save_strategy=\"epoch\",\n",
    "    load_best_model_at_end=True,\n",
    "    save_total_limit=3,\n",
    "    seed=420,\n",
    "    fp16=True,\n",
    "    push_to_hub=False,\n",
    "    push_to_hub_model_id=\"tcg-magic-classifier\"\n",
    ")\n",
    "\n",
    "# Initialize model and data arguments\n",
    "model_args = ModelArguments()\n",
    "data_args = DataTrainingArguments()"
   ]
  },
  {
   "cell_type": "code",
   "execution_count": 6,
   "metadata": {},
   "outputs": [],
   "source": [
    "# Set up logging\n",
    "logging.basicConfig(\n",
    "    format=\"%(asctime)s - %(levelname)s - %(name)s - %(message)s\",\n",
    "    datefmt=\"%m/%d/%Y %H:%M:%S\",\n",
    "    level=logging.INFO,\n",
    ")\n",
    "logger = logging.getLogger(__name__)\n",
    "\n",
    "# Set seed\n",
    "set_seed(training_args.seed)"
   ]
  },
  {
   "cell_type": "code",
   "execution_count": null,
   "metadata": {},
   "outputs": [],
   "source": [
    "# Load dataset\n",
    "dataset = load_dataset(\n",
    "    data_args.dataset_name,\n",
    "    data_args.dataset_config_name,\n",
    "    cache_dir=model_args.cache_dir,\n",
    "    token=model_args.token,\n",
    "    trust_remote_code=model_args.trust_remote_code,\n",
    ")\n",
    "\n",
    "# Split dataset if needed\n",
    "if isinstance(data_args.train_val_split, float) and data_args.train_val_split > 0.0:\n",
    "    split = dataset[\"train\"].train_test_split(data_args.train_val_split)\n",
    "    dataset[\"train\"] = split[\"train\"]\n",
    "    dataset[\"validation\"] = split[\"test\"]"
   ]
  },
  {
   "cell_type": "code",
   "execution_count": 8,
   "metadata": {},
   "outputs": [],
   "source": [
    "# Prepare label mappings\n",
    "labels = dataset[\"train\"].features[data_args.label_column_name].names\n",
    "label2id, id2label = {}, {}\n",
    "for i, label in enumerate(labels):\n",
    "    label2id[label] = str(i)\n",
    "    id2label[str(i)] = label\n",
    "\n",
    "# Load accuracy metric\n",
    "metric = evaluate.load(\"accuracy\", cache_dir=model_args.cache_dir)\n",
    "\n",
    "def compute_metrics(p):\n",
    "    return metric.compute(predictions=np.argmax(p.predictions, axis=1), references=p.label_ids)"
   ]
  },
  {
   "cell_type": "code",
   "execution_count": null,
   "metadata": {},
   "outputs": [],
   "source": [
    "# Load model and image processor\n",
    "config = AutoConfig.from_pretrained(\n",
    "    model_args.model_name_or_path,\n",
    "    num_labels=len(labels),\n",
    "    label2id=label2id,\n",
    "    id2label=id2label,\n",
    "    finetuning_task=\"image-classification\",\n",
    ")\n",
    "\n",
    "model = AutoModelForImageClassification.from_pretrained(\n",
    "    model_args.model_name_or_path,\n",
    "    config=config,\n",
    "    ignore_mismatched_sizes=model_args.ignore_mismatched_sizes,\n",
    ")\n",
    "\n",
    "image_processor = AutoImageProcessor.from_pretrained(\n",
    "    model_args.model_name_or_path,\n",
    ")"
   ]
  },
  {
   "cell_type": "code",
   "execution_count": 10,
   "metadata": {},
   "outputs": [],
   "source": [
    "# Set up image transforms\n",
    "if \"shortest_edge\" in image_processor.size:\n",
    "    size = image_processor.size[\"shortest_edge\"]\n",
    "else:\n",
    "    size = (image_processor.size[\"height\"], image_processor.size[\"width\"])\n",
    "\n",
    "normalize = Normalize(mean=image_processor.image_mean, std=image_processor.image_std) \\\n",
    "    if hasattr(image_processor, \"image_mean\") and hasattr(image_processor, \"image_std\") \\\n",
    "    else Lambda(lambda x: x)\n",
    "\n",
    "_train_transforms = Compose([\n",
    "    RandomResizedCrop(size),\n",
    "    RandomHorizontalFlip(),\n",
    "    ToTensor(),\n",
    "    normalize,\n",
    "])\n",
    "\n",
    "_val_transforms = Compose([\n",
    "    Resize(size),\n",
    "    CenterCrop(size),\n",
    "    ToTensor(),\n",
    "    normalize,\n",
    "])\n",
    "\n",
    "def train_transforms(example_batch):\n",
    "    example_batch[\"pixel_values\"] = [\n",
    "        _train_transforms(pil_img.convert(\"RGB\")) \n",
    "        for pil_img in example_batch[data_args.image_column_name]\n",
    "    ]\n",
    "    return example_batch\n",
    "\n",
    "def val_transforms(example_batch):\n",
    "    example_batch[\"pixel_values\"] = [\n",
    "        _val_transforms(pil_img.convert(\"RGB\")) \n",
    "        for pil_img in example_batch[data_args.image_column_name]\n",
    "    ]\n",
    "    return example_batch\n",
    "\n",
    "# Apply transforms\n",
    "dataset[\"train\"].set_transform(train_transforms)\n",
    "dataset[\"validation\"].set_transform(val_transforms)"
   ]
  },
  {
   "cell_type": "code",
   "execution_count": 11,
   "metadata": {},
   "outputs": [],
   "source": [
    "# Set up data collator\n",
    "def collate_fn(examples):\n",
    "    pixel_values = torch.stack([example[\"pixel_values\"] for example in examples])\n",
    "    labels = torch.tensor([example[data_args.label_column_name] for example in examples])\n",
    "    return {\"pixel_values\": pixel_values, \"labels\": labels}"
   ]
  },
  {
   "cell_type": "code",
   "execution_count": 12,
   "metadata": {},
   "outputs": [],
   "source": [
    "# Initialize trainer\n",
    "trainer = Trainer(\n",
    "    model=model,\n",
    "    args=training_args,\n",
    "    train_dataset=dataset[\"train\"],\n",
    "    eval_dataset=dataset[\"validation\"],\n",
    "    compute_metrics=compute_metrics,\n",
    "    data_collator=collate_fn,\n",
    ")"
   ]
  },
  {
   "cell_type": "code",
   "execution_count": null,
   "metadata": {},
   "outputs": [],
   "source": [
    "# Train the model\n",
    "train_result = trainer.train()\n",
    "trainer.save_model()\n",
    "trainer.log_metrics(\"train\", train_result.metrics)\n",
    "trainer.save_metrics(\"train\", train_result.metrics)\n",
    "trainer.save_state()"
   ]
  },
  {
   "cell_type": "code",
   "execution_count": null,
   "metadata": {},
   "outputs": [],
   "source": [
    "# Evaluate the model\n",
    "metrics = trainer.evaluate()\n",
    "trainer.log_metrics(\"eval\", metrics)\n",
    "trainer.save_metrics(\"eval\", metrics)"
   ]
  },
  {
   "cell_type": "code",
   "execution_count": null,
   "metadata": {},
   "outputs": [],
   "source": [
    "# Push to hub\n",
    "if training_args.push_to_hub:\n",
    "    kwargs = {\n",
    "        \"finetuned_from\": model_args.model_name_or_path,\n",
    "        \"tasks\": \"image-classification\",\n",
    "        \"dataset\": data_args.dataset_name,\n",
    "        \"tags\": [\"image-classification\", \"vision\"],\n",
    "    }\n",
    "    trainer.push_to_hub(**kwargs)"
   ]
  }
 ],
 "metadata": {
  "kernelspec": {
   "display_name": ".venv",
   "language": "python",
   "name": "python3"
  },
  "language_info": {
   "codemirror_mode": {
    "name": "ipython",
    "version": 3
   },
   "file_extension": ".py",
   "mimetype": "text/x-python",
   "name": "python",
   "nbconvert_exporter": "python",
   "pygments_lexer": "ipython3",
   "version": "3.10.12"
  }
 },
 "nbformat": 4,
 "nbformat_minor": 4
}
